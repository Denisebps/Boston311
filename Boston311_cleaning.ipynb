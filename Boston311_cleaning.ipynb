{
  "nbformat": 4,
  "nbformat_minor": 0,
  "metadata": {
    "colab": {
      "name": "Boston311_cleaning.ipynb",
      "provenance": []
    },
    "kernelspec": {
      "name": "python3",
      "display_name": "Python 3"
    },
    "language_info": {
      "name": "python"
    }
  },
  "cells": [
    {
      "cell_type": "markdown",
      "metadata": {
        "id": "WLgBCPUAOYNL"
      },
      "source": [
        "## Data cleaning and wrapping\n",
        "\n",
        "Time to download the data, clean the dataset and wrap it.\n",
        "\n",
        "There is a .csv file for each year, but for the analysis, it's better if we work with just one data frame.\n",
        "\n",
        "We will also need to modify some columns and add some new ones for our future analysis.\n",
        "\n",
        "Let's start!\n",
        "\n",
        "\n"
      ]
    },
    {
      "cell_type": "code",
      "metadata": {
        "id": "cimNtead7nPg"
      },
      "source": [
        "#importing the libraries that we are going to use\n",
        "import pandas as pd\n",
        "import numpy as np\n",
        "import matplotlib.pyplot as plt\n",
        "import seaborn as sns\n",
        "import matplotlib.dates as mdates\n",
        "from matplotlib.dates import DateFormatter"
      ],
      "execution_count": 1,
      "outputs": []
    },
    {
      "cell_type": "markdown",
      "metadata": {
        "id": "NsUl1i_kNczo"
      },
      "source": [
        "Creating the data frame *df* with all the data. I decided to use the url directly. There is a different url for each year."
      ]
    },
    {
      "cell_type": "code",
      "metadata": {
        "colab": {
          "base_uri": "https://localhost:8080/"
        },
        "id": "L_UL5MyS8Sn6",
        "outputId": "42159a76-f00c-4a4d-8255-f60f7b5fc24e"
      },
      "source": [
        "# links is a list with all the used url's\n",
        "links=[\"https://data.boston.gov/dataset/8048697b-ad64-4bfc-b090-ee00169f2323/resource/94b499d9-712a-4d2a-b790-7ceec5c9c4b1/download/311_service_requests_2011.csv\",\n",
        "       \"https://data.boston.gov/dataset/8048697b-ad64-4bfc-b090-ee00169f2323/resource/382e10d9-1864-40ba-bef6-4eea3c75463c/download/311_service_requests_2012.csv\",\n",
        "       \"https://data.boston.gov/dataset/8048697b-ad64-4bfc-b090-ee00169f2323/resource/407c5cd0-f764-4a41-adf8-054ff535049e/download/311_service_requests_2013.csv\",\n",
        "       \"https://data.boston.gov/dataset/8048697b-ad64-4bfc-b090-ee00169f2323/resource/bdae89c8-d4ce-40e9-a6e1-a5203953a2e0/download/311_service_requests_2014.csv\",\n",
        "       \"https://data.boston.gov/dataset/8048697b-ad64-4bfc-b090-ee00169f2323/resource/c9509ab4-6f6d-4b97-979a-0cf2a10c922b/download/311_service_requests_2015.csv\",\n",
        "       \"https://data.boston.gov/dataset/8048697b-ad64-4bfc-b090-ee00169f2323/resource/b7ea6b1b-3ca4-4c5b-9713-6dc1db52379a/download/311_service_requests_2016.csv\",\n",
        "       \"https://data.boston.gov/dataset/8048697b-ad64-4bfc-b090-ee00169f2323/resource/30022137-709d-465e-baae-ca155b51927d/download/311_service_requests_2017.csv\",\n",
        "       \"https://data.boston.gov/dataset/8048697b-ad64-4bfc-b090-ee00169f2323/resource/2be28d90-3a90-4af1-a3f6-f28c1e25880a/download/311_service_requests_2018.csv\",\n",
        "       \"https://data.boston.gov/dataset/8048697b-ad64-4bfc-b090-ee00169f2323/resource/ea2e4696-4a2d-429c-9807-d02eb92e0222/download/311_service_requests_2019.csv\",\n",
        "       \"https://data.boston.gov/dataset/8048697b-ad64-4bfc-b090-ee00169f2323/resource/6ff6a6fd-3141-4440-a880-6f60a37fe789/download/script_105774672_20210108153400_combine.csv\",\n",
        "       \"https://data.boston.gov/dataset/8048697b-ad64-4bfc-b090-ee00169f2323/resource/f53ebccd-bc61-49f9-83db-625f209c95f5/download/tmp8aj__jit.csv\"]\n",
        "\n",
        "# now we iterate over links to append each year data frame in the variable df\n",
        "\n",
        "df=pd.DataFrame()\n",
        "for link in links:\n",
        "  df=df.append(pd.read_csv(link))\n"
      ],
      "execution_count": 2,
      "outputs": [
        {
          "output_type": "stream",
          "name": "stderr",
          "text": [
            "/usr/local/lib/python3.7/dist-packages/IPython/core/interactiveshell.py:2718: DtypeWarning: Columns (13) have mixed types.Specify dtype option on import or set low_memory=False.\n",
            "  interactivity=interactivity, compiler=compiler, result=result)\n"
          ]
        }
      ]
    },
    {
      "cell_type": "code",
      "metadata": {
        "colab": {
          "base_uri": "https://localhost:8080/",
          "height": 337
        },
        "id": "fzxjgRMn_bLJ",
        "outputId": "aae8238b-56f8-43c7-967a-669be4236418"
      },
      "source": [
        "#check the head\n",
        "df.head(3)"
      ],
      "execution_count": 3,
      "outputs": [
        {
          "output_type": "execute_result",
          "data": {
            "text/html": [
              "<div>\n",
              "<style scoped>\n",
              "    .dataframe tbody tr th:only-of-type {\n",
              "        vertical-align: middle;\n",
              "    }\n",
              "\n",
              "    .dataframe tbody tr th {\n",
              "        vertical-align: top;\n",
              "    }\n",
              "\n",
              "    .dataframe thead th {\n",
              "        text-align: right;\n",
              "    }\n",
              "</style>\n",
              "<table border=\"1\" class=\"dataframe\">\n",
              "  <thead>\n",
              "    <tr style=\"text-align: right;\">\n",
              "      <th></th>\n",
              "      <th>case_enquiry_id</th>\n",
              "      <th>open_dt</th>\n",
              "      <th>target_dt</th>\n",
              "      <th>closed_dt</th>\n",
              "      <th>ontime</th>\n",
              "      <th>case_status</th>\n",
              "      <th>closure_reason</th>\n",
              "      <th>case_title</th>\n",
              "      <th>subject</th>\n",
              "      <th>reason</th>\n",
              "      <th>type</th>\n",
              "      <th>queue</th>\n",
              "      <th>department</th>\n",
              "      <th>submittedphoto</th>\n",
              "      <th>closedphoto</th>\n",
              "      <th>location</th>\n",
              "      <th>fire_district</th>\n",
              "      <th>pwd_district</th>\n",
              "      <th>city_council_district</th>\n",
              "      <th>police_district</th>\n",
              "      <th>neighborhood</th>\n",
              "      <th>neighborhood_services_district</th>\n",
              "      <th>ward</th>\n",
              "      <th>precinct</th>\n",
              "      <th>location_street_name</th>\n",
              "      <th>location_zipcode</th>\n",
              "      <th>latitude</th>\n",
              "      <th>longitude</th>\n",
              "      <th>source</th>\n",
              "    </tr>\n",
              "  </thead>\n",
              "  <tbody>\n",
              "    <tr>\n",
              "      <th>0</th>\n",
              "      <td>101000295613</td>\n",
              "      <td>2011-07-01 01:32:33</td>\n",
              "      <td>2011-07-15 01:32:32</td>\n",
              "      <td>2011-07-01 05:06:58</td>\n",
              "      <td>ONTIME</td>\n",
              "      <td>Closed</td>\n",
              "      <td>Case Closed Case Resolved replaced 100 amp fus...</td>\n",
              "      <td>Street Light Outages</td>\n",
              "      <td>Public Works Department</td>\n",
              "      <td>Street Lights</td>\n",
              "      <td>Street Light Outages</td>\n",
              "      <td>PWDx_Street Light Outages</td>\n",
              "      <td>PWDx</td>\n",
              "      <td>NaN</td>\n",
              "      <td>NaN</td>\n",
              "      <td>INTERSECTION of Groveland St &amp; River St  Matta...</td>\n",
              "      <td>8</td>\n",
              "      <td>07</td>\n",
              "      <td>3</td>\n",
              "      <td>B3</td>\n",
              "      <td>Greater Mattapan</td>\n",
              "      <td>7</td>\n",
              "      <td>Ward 17</td>\n",
              "      <td>1714</td>\n",
              "      <td>INTERSECTION Groveland St &amp; River St</td>\n",
              "      <td>NaN</td>\n",
              "      <td>42.2715</td>\n",
              "      <td>-71.0772</td>\n",
              "      <td>Employee Generated</td>\n",
              "    </tr>\n",
              "    <tr>\n",
              "      <th>1</th>\n",
              "      <td>101000295614</td>\n",
              "      <td>2011-07-01 02:18:31</td>\n",
              "      <td>2011-07-05 02:18:31</td>\n",
              "      <td>2011-07-01 06:12:43</td>\n",
              "      <td>ONTIME</td>\n",
              "      <td>Closed</td>\n",
              "      <td>Case Closed Case Scheduled Items have been sch...</td>\n",
              "      <td>Schedule a Bulk Item Pickup</td>\n",
              "      <td>Public Works Department</td>\n",
              "      <td>Sanitation</td>\n",
              "      <td>Schedule a Bulk Item Pickup</td>\n",
              "      <td>PWDx_Schedule a Bulk Item Pickup</td>\n",
              "      <td>PWDx</td>\n",
              "      <td>NaN</td>\n",
              "      <td>NaN</td>\n",
              "      <td>39 Lorraine St  Roslindale  MA  02131</td>\n",
              "      <td>12</td>\n",
              "      <td>06</td>\n",
              "      <td>5</td>\n",
              "      <td>E5</td>\n",
              "      <td>Roslindale</td>\n",
              "      <td>10</td>\n",
              "      <td>Ward 20</td>\n",
              "      <td>2008</td>\n",
              "      <td>39 Lorraine St</td>\n",
              "      <td>2131.0</td>\n",
              "      <td>42.2839</td>\n",
              "      <td>-71.1447</td>\n",
              "      <td>Self Service</td>\n",
              "    </tr>\n",
              "    <tr>\n",
              "      <th>2</th>\n",
              "      <td>101000295615</td>\n",
              "      <td>2011-07-01 02:28:04</td>\n",
              "      <td>2011-08-15 02:28:04</td>\n",
              "      <td>2011-08-01 15:21:46</td>\n",
              "      <td>ONTIME</td>\n",
              "      <td>Closed</td>\n",
              "      <td>Case Closed Case Resolved No Sidewalk and poor...</td>\n",
              "      <td>New Sign  Crosswalk or Pavement Marking</td>\n",
              "      <td>Transportation - Traffic Division</td>\n",
              "      <td>Signs &amp; Signals</td>\n",
              "      <td>New Sign  Crosswalk or Pavement Marking</td>\n",
              "      <td>BTDT_Engineering_New Sign and Pavement Marking...</td>\n",
              "      <td>BTDT</td>\n",
              "      <td>NaN</td>\n",
              "      <td>NaN</td>\n",
              "      <td>INTERSECTION of Corey St &amp; Lagrange St  West R...</td>\n",
              "      <td>NaN</td>\n",
              "      <td>06</td>\n",
              "      <td>6</td>\n",
              "      <td>E5</td>\n",
              "      <td>West Roxbury</td>\n",
              "      <td>12</td>\n",
              "      <td>Ward 20</td>\n",
              "      <td>2017</td>\n",
              "      <td>INTERSECTION Corey St &amp; Lagrange St</td>\n",
              "      <td>NaN</td>\n",
              "      <td>42.3003</td>\n",
              "      <td>-71.1698</td>\n",
              "      <td>Self Service</td>\n",
              "    </tr>\n",
              "  </tbody>\n",
              "</table>\n",
              "</div>"
            ],
            "text/plain": [
              "   case_enquiry_id              open_dt  ... longitude              source\n",
              "0     101000295613  2011-07-01 01:32:33  ...  -71.0772  Employee Generated\n",
              "1     101000295614  2011-07-01 02:18:31  ...  -71.1447        Self Service\n",
              "2     101000295615  2011-07-01 02:28:04  ...  -71.1698        Self Service\n",
              "\n",
              "[3 rows x 29 columns]"
            ]
          },
          "metadata": {},
          "execution_count": 3
        }
      ]
    },
    {
      "cell_type": "code",
      "metadata": {
        "colab": {
          "base_uri": "https://localhost:8080/",
          "height": 372
        },
        "id": "YYZCzym6Wxls",
        "outputId": "b83282bb-cf36-488d-8d69-8925fb7b84c1"
      },
      "source": [
        "#check the tail as well to look at the most recent entries\n",
        "df.tail(3)"
      ],
      "execution_count": 4,
      "outputs": [
        {
          "output_type": "execute_result",
          "data": {
            "text/html": [
              "<div>\n",
              "<style scoped>\n",
              "    .dataframe tbody tr th:only-of-type {\n",
              "        vertical-align: middle;\n",
              "    }\n",
              "\n",
              "    .dataframe tbody tr th {\n",
              "        vertical-align: top;\n",
              "    }\n",
              "\n",
              "    .dataframe thead th {\n",
              "        text-align: right;\n",
              "    }\n",
              "</style>\n",
              "<table border=\"1\" class=\"dataframe\">\n",
              "  <thead>\n",
              "    <tr style=\"text-align: right;\">\n",
              "      <th></th>\n",
              "      <th>case_enquiry_id</th>\n",
              "      <th>open_dt</th>\n",
              "      <th>target_dt</th>\n",
              "      <th>closed_dt</th>\n",
              "      <th>ontime</th>\n",
              "      <th>case_status</th>\n",
              "      <th>closure_reason</th>\n",
              "      <th>case_title</th>\n",
              "      <th>subject</th>\n",
              "      <th>reason</th>\n",
              "      <th>type</th>\n",
              "      <th>queue</th>\n",
              "      <th>department</th>\n",
              "      <th>submittedphoto</th>\n",
              "      <th>closedphoto</th>\n",
              "      <th>location</th>\n",
              "      <th>fire_district</th>\n",
              "      <th>pwd_district</th>\n",
              "      <th>city_council_district</th>\n",
              "      <th>police_district</th>\n",
              "      <th>neighborhood</th>\n",
              "      <th>neighborhood_services_district</th>\n",
              "      <th>ward</th>\n",
              "      <th>precinct</th>\n",
              "      <th>location_street_name</th>\n",
              "      <th>location_zipcode</th>\n",
              "      <th>latitude</th>\n",
              "      <th>longitude</th>\n",
              "      <th>source</th>\n",
              "    </tr>\n",
              "  </thead>\n",
              "  <tbody>\n",
              "    <tr>\n",
              "      <th>224658</th>\n",
              "      <td>101004014569</td>\n",
              "      <td>2021-10-18 20:37:00</td>\n",
              "      <td>2021-10-20 08:30:00</td>\n",
              "      <td>NaN</td>\n",
              "      <td>ONTIME</td>\n",
              "      <td>Open</td>\n",
              "      <td></td>\n",
              "      <td>Missed Leaf or Yard Trash: District 10B</td>\n",
              "      <td>Public Works Department</td>\n",
              "      <td>Sanitation</td>\n",
              "      <td>Missed Trash/Recycling/Yard Waste/Bulk Item</td>\n",
              "      <td>PWDx_Missed Trash\\Recycling\\Yard Waste\\Bulk Item</td>\n",
              "      <td>PWDx</td>\n",
              "      <td>NaN</td>\n",
              "      <td>NaN</td>\n",
              "      <td>7 Homestead St  Dorchester  MA  02121</td>\n",
              "      <td>9</td>\n",
              "      <td>10B</td>\n",
              "      <td>7</td>\n",
              "      <td>E13</td>\n",
              "      <td>Dorchester</td>\n",
              "      <td>13</td>\n",
              "      <td>12</td>\n",
              "      <td>1208</td>\n",
              "      <td>7 Homestead St</td>\n",
              "      <td>2121.0</td>\n",
              "      <td>42.3137</td>\n",
              "      <td>-71.0943</td>\n",
              "      <td>Constituent Call</td>\n",
              "    </tr>\n",
              "    <tr>\n",
              "      <th>224659</th>\n",
              "      <td>101004014612</td>\n",
              "      <td>2021-10-18 23:22:53</td>\n",
              "      <td>2021-10-20 08:30:00</td>\n",
              "      <td>NaN</td>\n",
              "      <td>ONTIME</td>\n",
              "      <td>Open</td>\n",
              "      <td></td>\n",
              "      <td>Parking Enforcement</td>\n",
              "      <td>Transportation - Traffic Division</td>\n",
              "      <td>Enforcement &amp; Abandoned Vehicles</td>\n",
              "      <td>Parking Enforcement</td>\n",
              "      <td>BTDT_Parking Enforcement</td>\n",
              "      <td>BTDT</td>\n",
              "      <td>https://311.boston.gov/media/boston/report/pho...</td>\n",
              "      <td>NaN</td>\n",
              "      <td>8 Mountfort St  Boston  MA  02215</td>\n",
              "      <td>4</td>\n",
              "      <td>10A</td>\n",
              "      <td>8</td>\n",
              "      <td>D4</td>\n",
              "      <td>Fenway / Kenmore / Audubon Circle / Longwood</td>\n",
              "      <td>14</td>\n",
              "      <td>Ward 21</td>\n",
              "      <td>2102</td>\n",
              "      <td>8 Mountfort St</td>\n",
              "      <td>2215.0</td>\n",
              "      <td>42.3476</td>\n",
              "      <td>-71.1025</td>\n",
              "      <td>Citizens Connect App</td>\n",
              "    </tr>\n",
              "    <tr>\n",
              "      <th>224660</th>\n",
              "      <td>101004014620</td>\n",
              "      <td>2021-10-18 23:40:17</td>\n",
              "      <td>2021-11-02 08:30:00</td>\n",
              "      <td>NaN</td>\n",
              "      <td>ONTIME</td>\n",
              "      <td>Open</td>\n",
              "      <td></td>\n",
              "      <td>Street Light Outages</td>\n",
              "      <td>Public Works Department</td>\n",
              "      <td>Street Lights</td>\n",
              "      <td>Street Light Outages</td>\n",
              "      <td>PWDx_Street Light Outages</td>\n",
              "      <td>PWDx</td>\n",
              "      <td>NaN</td>\n",
              "      <td>NaN</td>\n",
              "      <td>58 Liverpool St  East Boston  MA  02128</td>\n",
              "      <td>1</td>\n",
              "      <td>09</td>\n",
              "      <td>1</td>\n",
              "      <td>A7</td>\n",
              "      <td>East Boston</td>\n",
              "      <td>1</td>\n",
              "      <td>Ward 1</td>\n",
              "      <td>0104</td>\n",
              "      <td>58 Liverpool St</td>\n",
              "      <td>2128.0</td>\n",
              "      <td>42.3716</td>\n",
              "      <td>-71.0416</td>\n",
              "      <td>Citizens Connect App</td>\n",
              "    </tr>\n",
              "  </tbody>\n",
              "</table>\n",
              "</div>"
            ],
            "text/plain": [
              "        case_enquiry_id              open_dt  ... longitude                source\n",
              "224658     101004014569  2021-10-18 20:37:00  ...  -71.0943      Constituent Call\n",
              "224659     101004014612  2021-10-18 23:22:53  ...  -71.1025  Citizens Connect App\n",
              "224660     101004014620  2021-10-18 23:40:17  ...  -71.0416  Citizens Connect App\n",
              "\n",
              "[3 rows x 29 columns]"
            ]
          },
          "metadata": {},
          "execution_count": 4
        }
      ]
    },
    {
      "cell_type": "code",
      "metadata": {
        "colab": {
          "base_uri": "https://localhost:8080/"
        },
        "id": "ee4X_rdu_hyL",
        "outputId": "be638c62-2fa2-4a2f-905d-ce0f07964b6e"
      },
      "source": [
        "#check the shape to see the size of our data\n",
        "df.shape"
      ],
      "execution_count": 5,
      "outputs": [
        {
          "output_type": "execute_result",
          "data": {
            "text/plain": [
              "(2143614, 29)"
            ]
          },
          "metadata": {},
          "execution_count": 5
        }
      ]
    },
    {
      "cell_type": "markdown",
      "metadata": {
        "id": "3epDH771ZRrn"
      },
      "source": [
        "Our original data has more than 2 million rows/requests and 29 columns. The number of rows may vary depending on when the code ran. This happens because the 2021 data is still updated once per day.\n",
        "\n",
        "Now it's time to add two more columns. First, we need to calculate the actual time spent to close a request by subtracting the closed date from the open date. Second, we calculate de difference between the target date and the actual closed date.\n"
      ]
    },
    {
      "cell_type": "code",
      "metadata": {
        "colab": {
          "base_uri": "https://localhost:8080/"
        },
        "id": "u3HI6bXQ0ihu",
        "outputId": "708ef341-ed5a-44cf-fa72-02e4c0b4c2ed"
      },
      "source": [
        "#convert closed_dt and open_dt from object type to datetime type and than subtract\n",
        "df[\"elapsed_time\"]=pd.to_datetime(df[\"closed_dt\"])-pd.to_datetime(df[\"open_dt\"])\n",
        "df[\"elapsed_time\"]"
      ],
      "execution_count": 39,
      "outputs": [
        {
          "output_type": "execute_result",
          "data": {
            "text/plain": [
              "0         0 days 03:34:25\n",
              "1         0 days 03:54:12\n",
              "2        31 days 12:53:42\n",
              "3        21 days 13:09:57\n",
              "4         0 days 03:00:07\n",
              "               ...       \n",
              "224656                NaT\n",
              "224657                NaT\n",
              "224658                NaT\n",
              "224659                NaT\n",
              "224660                NaT\n",
              "Name: elapsed_time, Length: 2143614, dtype: timedelta64[ns]"
            ]
          },
          "metadata": {},
          "execution_count": 39
        }
      ]
    },
    {
      "cell_type": "code",
      "metadata": {
        "colab": {
          "base_uri": "https://localhost:8080/"
        },
        "id": "GFxwpQw02Ya2",
        "outputId": "c835156a-609e-4f1c-cad4-f4a30cadff3b"
      },
      "source": [
        "#convert to datetime and than subtract\n",
        "df[\"closed_minus_target\"]=pd.to_datetime(df[\"closed_dt\"])-pd.to_datetime(df[\"target_dt\"])\n",
        "df[\"closed_minus_target\"]\n"
      ],
      "execution_count": 40,
      "outputs": [
        {
          "output_type": "execute_result",
          "data": {
            "text/plain": [
              "0        -14 days +03:34:26\n",
              "1         -4 days +03:54:12\n",
              "2        -14 days +12:53:42\n",
              "3           7 days 13:09:57\n",
              "4                       NaT\n",
              "                ...        \n",
              "224656                  NaT\n",
              "224657                  NaT\n",
              "224658                  NaT\n",
              "224659                  NaT\n",
              "224660                  NaT\n",
              "Name: closed_minus_target, Length: 2143614, dtype: timedelta64[ns]"
            ]
          },
          "metadata": {},
          "execution_count": 40
        }
      ]
    },
    {
      "cell_type": "markdown",
      "metadata": {
        "id": "Bv8TDhLkwrCQ"
      },
      "source": [
        "The results are in timedelta type. Note that requests that are still open get a NaT because their closed_dt is NaN.\n",
        "\n",
        "For some analysis the timedelta type isn't ideal, so let´s convert it to a float that represents the number of days elapsed."
      ]
    },
    {
      "cell_type": "code",
      "metadata": {
        "id": "jGMS6NJGpMc3"
      },
      "source": [
        "#converting timedelta to days\n",
        "df[\"elapsed_days\"]=df[\"elapsed_time\"].dt.days\n",
        "df[\"closed_minus_target_days\"]=df[\"closed_minus_target\"].dt.days"
      ],
      "execution_count": 51,
      "outputs": []
    },
    {
      "cell_type": "markdown",
      "metadata": {
        "id": "yRqsEJ3W9Xy5"
      },
      "source": [
        "Ok. Now we have a data frame with the data from all the years, up to date, with the new columns added for the temporal analysis."
      ]
    },
    {
      "cell_type": "code",
      "metadata": {
        "colab": {
          "base_uri": "https://localhost:8080/"
        },
        "id": "whWEYMzvz7J1",
        "outputId": "02fa08ad-7122-499f-a974-bec36f0447ec"
      },
      "source": [
        "#storing df to load it in other notebooks\n",
        "%store df"
      ],
      "execution_count": 53,
      "outputs": [
        {
          "output_type": "stream",
          "name": "stdout",
          "text": [
            "Stored 'df' (DataFrame)\n"
          ]
        }
      ]
    }
  ]
}